{
  "nbformat": 4,
  "nbformat_minor": 0,
  "metadata": {
    "colab": {
      "provenance": [],
      "authorship_tag": "ABX9TyPvyCqF7BbQ+QMNbNyPlfCv",
      "include_colab_link": true
    },
    "kernelspec": {
      "name": "python3",
      "display_name": "Python 3"
    },
    "language_info": {
      "name": "python"
    }
  },
  "cells": [
    {
      "cell_type": "markdown",
      "metadata": {
        "id": "view-in-github",
        "colab_type": "text"
      },
      "source": [
        "<a href=\"https://colab.research.google.com/github/sakshamo5/red-zones/blob/main/redzones.ipynb\" target=\"_parent\"><img src=\"https://colab.research.google.com/assets/colab-badge.svg\" alt=\"Open In Colab\"/></a>"
      ]
    },
    {
      "cell_type": "code",
      "source": [
        "import pandas as pd\n",
        "from sklearn.model_selection import train_test_split\n",
        "from sklearn.ensemble import RandomForestClassifier\n",
        "from sklearn.metrics import classification_report\n",
        "from sklearn.preprocessing import LabelEncoder\n",
        "\n",
        "# Load the dataset\n",
        "file_path = '/content/Crime_Data.csv'\n",
        "crime_data = pd.read_csv(file_path)\n"
      ],
      "metadata": {
        "id": "AyajxR09sXlY"
      },
      "execution_count": null,
      "outputs": []
    },
    {
      "cell_type": "code",
      "execution_count": null,
      "metadata": {
        "colab": {
          "base_uri": "https://localhost:8080/"
        },
        "id": "pKFh9JW4sUQW",
        "outputId": "7d848397-70be-4ae6-9865-6c869aeb05c8"
      },
      "outputs": [
        {
          "output_type": "stream",
          "name": "stdout",
          "text": [
            "Classification Report:\n",
            "              precision    recall  f1-score   support\n",
            "\n",
            "           0       1.00      1.00      1.00       286\n",
            "           1       1.00      1.00      1.00      1714\n",
            "\n",
            "    accuracy                           1.00      2000\n",
            "   macro avg       1.00      1.00      1.00      2000\n",
            "weighted avg       1.00      1.00      1.00      2000\n",
            "\n"
          ]
        }
      ],
      "source": [
        "\n",
        "# Data preprocessing\n",
        "# Encoding categorical columns\n",
        "label_encoders = {}\n",
        "categorical_cols = [\"Crime_Type\", \"Day_of_Week\", \"Severity\", \"Nearby_Landmark\"]\n",
        "\n",
        "for col in categorical_cols:\n",
        "    le = LabelEncoder()\n",
        "    crime_data[col] = le.fit_transform(crime_data[col])\n",
        "    label_encoders[col] = le\n",
        "\n",
        "# Extracting the hour from \"Time_of_Happening\"\n",
        "crime_data['Hour_of_Happening'] = pd.to_datetime(crime_data['Time_of_Happening'], format='%H:%M').dt.hour\n",
        "\n",
        "# Defining the target variable: Red Zone (1) or Not (0)\n",
        "# Criteria: Severe crimes OR frequency > 10 in the last 30 days\n",
        "crime_data['Red_Zone'] = ((crime_data['Severity'] == label_encoders['Severity'].transform(['Severe'])[0]) |\n",
        "                          (crime_data['Frequency_in_Last_30_Days'] > 10)).astype(int)\n",
        "\n",
        "# Feature columns\n",
        "feature_cols = [\"Crime_Type\", \"Day_of_Week\", \"Hour_of_Happening\",\n",
        "                \"Severity\", \"Frequency_in_Last_30_Days\"]\n",
        "\n",
        "# Splitting the data\n",
        "X = crime_data[feature_cols]\n",
        "y = crime_data['Red_Zone']\n",
        "\n",
        "X_train, X_test, y_train, y_test = train_test_split(X, y, test_size=0.2, random_state=42)\n",
        "\n",
        "# Training the Random Forest Classifier\n",
        "rf_model = RandomForestClassifier(random_state=42)\n",
        "rf_model.fit(X_train, y_train)\n",
        "\n",
        "# Predictions and evaluation\n",
        "y_pred = rf_model.predict(X_test)\n",
        "classification_rep = classification_report(y_test, y_pred)\n",
        "\n",
        "# Output results\n",
        "print(\"Classification Report:\")\n",
        "print(classification_rep)\n",
        "\n",
        "# Save the model and encoders (if needed)\n",
        "import joblib\n",
        "joblib.dump(rf_model, 'red_zone_rf_model.pkl')\n",
        "for col, le in label_encoders.items():\n",
        "    joblib.dump(le, f'label_encoder_{col}.pkl')\n"
      ]
    },
    {
      "cell_type": "code",
      "source": [
        "import numpy as np\n",
        "import joblib\n",
        "\n",
        "# Load the trained model\n",
        "rf_model = joblib.load('red_zone_rf_model.pkl')\n",
        "\n",
        "# Define new data (manually created feature vectors)\n",
        "# Each vector corresponds to [\"Crime_Type\", \"Day_of_Week\", \"Hour_of_Happening\", \"Severity\", \"Frequency_in_Last_30_Days\"]\n",
        "new_data = np.array([\n",
        "    [2, 3, 23, 1, 15],  # Example 1: A crime at night with high frequency\n",
        "    [5, 1, 12, 0, 5],   # Example 2: A moderate crime during the day\n",
        "])\n",
        "\n",
        "# Make predictions\n",
        "predictions = rf_model.predict(new_data)\n",
        "\n",
        "# Output the predictions\n",
        "for i, prediction in enumerate(predictions):\n",
        "    zone_status = \"Red Zone\" if prediction == 1 else \"Not Red Zone\"\n",
        "    print(f\"Example {i + 1}: {zone_status}\")\n"
      ],
      "metadata": {
        "id": "4jaixkgEtiWc",
        "outputId": "29394345-bf41-472f-f264-136eb0cdbfbb",
        "colab": {
          "base_uri": "https://localhost:8080/"
        }
      },
      "execution_count": null,
      "outputs": [
        {
          "output_type": "stream",
          "name": "stdout",
          "text": [
            "Example 1: Red Zone\n",
            "Example 2: Not Red Zone\n"
          ]
        },
        {
          "output_type": "stream",
          "name": "stderr",
          "text": [
            "/usr/local/lib/python3.10/dist-packages/sklearn/utils/validation.py:2739: UserWarning: X does not have valid feature names, but RandomForestClassifier was fitted with feature names\n",
            "  warnings.warn(\n"
          ]
        }
      ]
    },
    {
      "cell_type": "code",
      "source": [],
      "metadata": {
        "id": "usZjMxy32pVo"
      },
      "execution_count": null,
      "outputs": []
    }
  ]
}